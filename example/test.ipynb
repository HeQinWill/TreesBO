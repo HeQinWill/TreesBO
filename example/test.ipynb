{
 "cells": [
  {
   "cell_type": "code",
   "execution_count": 1,
   "metadata": {},
   "outputs": [],
   "source": [
    "from sklearn import datasets\n",
    "from sklearn.model_selection import cross_val_score"
   ]
  },
  {
   "cell_type": "code",
   "execution_count": 27,
   "metadata": {},
   "outputs": [],
   "source": [
    "X = datasets.load_boston()['data']\n",
    "y = datasets.load_boston()['target']"
   ]
  },
  {
   "cell_type": "code",
   "execution_count": 24,
   "metadata": {
    "scrolled": true
   },
   "outputs": [
    {
     "data": {
      "text/plain": [
       "-37.68741758881771"
      ]
     },
     "execution_count": 24,
     "metadata": {},
     "output_type": "execute_result"
    }
   ],
   "source": [
    "from sklearn.ensemble import RandomForestRegressor, ExtraTreesRegressor\n",
    "from sklearn.metrics import make_scorer\n",
    "import numpy as np\n",
    "def sk_cv(model_nm, params, X_train, y_train, cv):\n",
    "\n",
    "    model_nm = model_nm.lower()\n",
    "    if model_nm == 'rf':\n",
    "        sk_model = RandomForestRegressor(**params)\n",
    "    elif model_nm == 'et':\n",
    "        sk_model = ExtraTreesRegressor(**params)\n",
    "    else:\n",
    "        raise ValueError(f\"model_nm: {model_nm} is not supported now! \")\n",
    "    def calc_rmse(y, y_pred):\n",
    "        return np.sqrt(np.mean((y - y_pred)**2))\n",
    "    # Creating root mean square error for sklearns crossvalidation\n",
    "    rmse_scorer = make_scorer(calc_rmse, greater_is_better=False)\n",
    "    \n",
    "    scores = cross_val_score(sk_model,\n",
    "                             X_train,\n",
    "                             y_train,\n",
    "                             cv=cv,\n",
    "                             n_jobs=-1,\n",
    "                             pre_dispatch=10,\n",
    "                             verbose=0,\n",
    "                             scoring='neg_mean_absolute_error')\n",
    "    return scores\n",
    "\n",
    "\n",
    "params = {'n_estimators':1,'random_state': 2019}\n",
    "sk_cv('rf',params,X,y,5).mean()"
   ]
  },
  {
   "cell_type": "code",
   "execution_count": null,
   "metadata": {},
   "outputs": [],
   "source": []
  },
  {
   "cell_type": "code",
   "execution_count": 28,
   "metadata": {},
   "outputs": [
    {
     "data": {
      "text/plain": [
       "array([[6.3200e-03, 1.8000e+01, 2.3100e+00, ..., 1.5300e+01, 3.9690e+02,\n",
       "        4.9800e+00],\n",
       "       [2.7310e-02, 0.0000e+00, 7.0700e+00, ..., 1.7800e+01, 3.9690e+02,\n",
       "        9.1400e+00],\n",
       "       [2.7290e-02, 0.0000e+00, 7.0700e+00, ..., 1.7800e+01, 3.9283e+02,\n",
       "        4.0300e+00],\n",
       "       ...,\n",
       "       [6.0760e-02, 0.0000e+00, 1.1930e+01, ..., 2.1000e+01, 3.9690e+02,\n",
       "        5.6400e+00],\n",
       "       [1.0959e-01, 0.0000e+00, 1.1930e+01, ..., 2.1000e+01, 3.9345e+02,\n",
       "        6.4800e+00],\n",
       "       [4.7410e-02, 0.0000e+00, 1.1930e+01, ..., 2.1000e+01, 3.9690e+02,\n",
       "        7.8800e+00]])"
      ]
     },
     "execution_count": 28,
     "metadata": {},
     "output_type": "execute_result"
    }
   ],
   "source": [
    "X"
   ]
  },
  {
   "cell_type": "code",
   "execution_count": 45,
   "metadata": {},
   "outputs": [
    {
     "name": "stdout",
     "output_type": "stream",
     "text": [
      "[0]\ttrain-mae:15.5735+0.793929\ttest-mae:15.7421+3.51174\n",
      "[10]\ttrain-mae:1.06014+0.0254148\ttest-mae:2.99867+0.489694\n",
      "[20]\ttrain-mae:0.53751+0.034997\ttest-mae:2.95754+0.43464\n",
      "[30]\ttrain-mae:0.315453+0.01641\ttest-mae:2.96762+0.432933\n",
      "[40]\ttrain-mae:0.186519+0.00670086\ttest-mae:2.97895+0.436536\n",
      "[50]\ttrain-mae:0.117939+0.00750274\ttest-mae:2.97607+0.432933\n",
      "[60]\ttrain-mae:0.074901+0.00447001\ttest-mae:2.97781+0.435716\n",
      "[70]\ttrain-mae:0.0488766+0.00327568\ttest-mae:2.97789+0.437246\n",
      "[80]\ttrain-mae:0.0308682+0.00229479\ttest-mae:2.97935+0.436738\n",
      "[90]\ttrain-mae:0.0208236+0.00194361\ttest-mae:2.97959+0.43643\n",
      "[100]\ttrain-mae:0.0134086+0.00086214\ttest-mae:2.97979+0.435725\n",
      "[110]\ttrain-mae:0.0087322+0.000696596\ttest-mae:2.97983+0.436107\n"
     ]
    }
   ],
   "source": [
    "import lightgbm as lgb\n",
    "import xgboost as xgb\n",
    "\n",
    "params = {'n_estimators':100,'random_state': 2019, 'eval_metric': 'mae'}\n",
    "\n",
    "\n",
    "# train_set = lgb.Dataset(X,y)\n",
    "train_set = xgb.DMatrix(X, y)\n",
    "\n",
    "# cv_dict = lgb.cv(params,\n",
    "#                  train_set,\n",
    "#                  num_boost_round=5000,\n",
    "#                  folds=None,\n",
    "#                  nfold=5,\n",
    "#                  stratified=False,\n",
    "#                  shuffle=False,\n",
    "#                  metrics=None,\n",
    "#                  fobj=None,\n",
    "#                  feval=None,\n",
    "#                  init_model=None,\n",
    "#                  feature_name='auto',\n",
    "#                  categorical_feature='auto',\n",
    "#                  early_stopping_rounds=100,\n",
    "#                  fpreproc=None,\n",
    "#                  verbose_eval=10,\n",
    "#                  show_stdv=True,\n",
    "#                  seed=0,\n",
    "#                  callbacks=None)\n",
    "\n",
    "cv_dict = xgb.cv(params,\n",
    "                 train_set,\n",
    "                 num_boost_round=5000,\n",
    "                 nfold=5,\n",
    "                 stratified=False,\n",
    "                 folds=None,\n",
    "                 early_stopping_rounds=100,\n",
    "                 as_pandas=False,\n",
    "                 verbose_eval=10,\n",
    "                 seed=0,\n",
    "                 shuffle=False)"
   ]
  },
  {
   "cell_type": "code",
   "execution_count": 46,
   "metadata": {
    "scrolled": true
   },
   "outputs": [
    {
     "data": {
      "text/plain": [
       "{'train-mae-mean': [15.573524,\n",
       "  11.0279256,\n",
       "  7.824921999999999,\n",
       "  5.5841146,\n",
       "  4.018898,\n",
       "  2.9415148,\n",
       "  2.2218834000000003,\n",
       "  1.7468472000000002,\n",
       "  1.419397,\n",
       "  1.201376,\n",
       "  1.0601448,\n",
       "  0.9532958,\n",
       "  0.8801132,\n",
       "  0.8118550000000001,\n",
       "  0.7644474000000001],\n",
       " 'train-mae-std': [0.7939290806065737,\n",
       "  0.5523860095746818,\n",
       "  0.3854034031562253,\n",
       "  0.2598893603505922,\n",
       "  0.17205939220164637,\n",
       "  0.11927926296117024,\n",
       "  0.07883110865540317,\n",
       "  0.052145477849570056,\n",
       "  0.037658990108604906,\n",
       "  0.02616324821577017,\n",
       "  0.025414789295998483,\n",
       "  0.0320198516761087,\n",
       "  0.03568648158280666,\n",
       "  0.04025582535236359,\n",
       "  0.042749986791109085],\n",
       " 'test-mae-mean': [15.7421038,\n",
       "  11.2778956,\n",
       "  8.265155799999999,\n",
       "  6.2800256,\n",
       "  4.9559526,\n",
       "  4.1483114,\n",
       "  3.6077269999999997,\n",
       "  3.3057122,\n",
       "  3.154813,\n",
       "  3.0596796,\n",
       "  2.9986692,\n",
       "  2.9730026,\n",
       "  2.9752308000000003,\n",
       "  2.9487932,\n",
       "  2.9485806000000006],\n",
       " 'test-mae-std': [3.5117384628196557,\n",
       "  2.821401414466903,\n",
       "  2.476121886254988,\n",
       "  2.0730959679101786,\n",
       "  1.6259049287904384,\n",
       "  1.202673863346269,\n",
       "  0.851958839402468,\n",
       "  0.6609027057467384,\n",
       "  0.5586838036804003,\n",
       "  0.49941723805115085,\n",
       "  0.4896941543352954,\n",
       "  0.4505225852294644,\n",
       "  0.44692807267809886,\n",
       "  0.4431915257697963,\n",
       "  0.4493004283303545]}"
      ]
     },
     "execution_count": 46,
     "metadata": {},
     "output_type": "execute_result"
    }
   ],
   "source": [
    "cv_dict"
   ]
  },
  {
   "cell_type": "code",
   "execution_count": null,
   "metadata": {},
   "outputs": [],
   "source": []
  }
 ],
 "metadata": {
  "kernelspec": {
   "display_name": "Python 3",
   "language": "python",
   "name": "python3"
  },
  "language_info": {
   "codemirror_mode": {
    "name": "ipython",
    "version": 3
   },
   "file_extension": ".py",
   "mimetype": "text/x-python",
   "name": "python",
   "nbconvert_exporter": "python",
   "pygments_lexer": "ipython3",
   "version": "3.7.3"
  }
 },
 "nbformat": 4,
 "nbformat_minor": 2
}
