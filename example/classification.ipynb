{
 "cells": [
  {
   "cell_type": "code",
   "execution_count": 1,
   "metadata": {},
   "outputs": [],
   "source": [
    "from sklearn.datasets import load_iris\n",
    "data = load_iris()\n",
    "X,y = data.data, data.target"
   ]
  },
  {
   "cell_type": "code",
   "execution_count": 2,
   "metadata": {},
   "outputs": [
    {
     "name": "stderr",
     "output_type": "stream",
     "text": [
      "/Users/zhangqi977/miniconda3/lib/python3.7/site-packages/lightgbm/__init__.py:46: UserWarning: Starting from version 2.2.1, the library file in distribution wheels for macOS is built by the Apple Clang (Xcode_8.3.3) compiler.\n",
      "This means that in case of installing LightGBM from PyPI via the ``pip install lightgbm`` command, you don't need to install the gcc compiler anymore.\n",
      "Instead of that, you need to install the OpenMP library, which is required for running LightGBM on the system with the Apple Clang compiler.\n",
      "You can install the OpenMP library by the following command: ``brew install libomp``.\n",
      "  \"You can install the OpenMP library by the following command: ``brew install libomp``.\", UserWarning)\n"
     ]
    }
   ],
   "source": [
    "import sys\n",
    "sys.path.append(\"..\")\n",
    "from treesbo.tuning import main_tuning_with_bo"
   ]
  },
  {
   "cell_type": "code",
   "execution_count": 3,
   "metadata": {
    "scrolled": true
   },
   "outputs": [
    {
     "name": "stdout",
     "output_type": "stream",
     "text": [
      "[30]\tcv_agg's auc: 1 + 0                            \n",
      "[60]\tcv_agg's auc: 1 + 0                            \n",
      "[90]\tcv_agg's auc: 1 + 0                            \n",
      "Trial file exists, will be renamed...               \n",
      "[30]\tcv_agg's auc: 1 + 0                                      \n",
      "[60]\tcv_agg's auc: 1 + 0                                      \n",
      "[90]\tcv_agg's auc: 1 + 0                                      \n",
      "[30]\tcv_agg's auc: 1 + 0                                      \n",
      "[60]\tcv_agg's auc: 1 + 0                                      \n",
      "[90]\tcv_agg's auc: 1 + 0                                      \n",
      "[30]\tcv_agg's auc: 1 + 0                                      \n",
      "[60]\tcv_agg's auc: 1 + 0                                      \n",
      "[90]\tcv_agg's auc: 1 + 0                                      \n",
      "[30]\tcv_agg's auc: 1 + 0                                      \n",
      "[60]\tcv_agg's auc: 1 + 0                                      \n",
      "[90]\tcv_agg's auc: 1 + 0                                      \n",
      "[30]\tcv_agg's auc: 1 + 0                                      \n",
      "[60]\tcv_agg's auc: 1 + 0                                      \n",
      "[90]\tcv_agg's auc: 1 + 0                                      \n",
      "[30]\tcv_agg's auc: 1 + 0                                      \n",
      "[60]\tcv_agg's auc: 1 + 0                                      \n",
      "[90]\tcv_agg's auc: 1 + 0                                      \n",
      "[30]\tcv_agg's auc: 1 + 0                                      \n",
      "[60]\tcv_agg's auc: 1 + 0                                      \n",
      "[90]\tcv_agg's auc: 1 + 0                                      \n",
      "[30]\tcv_agg's auc: 1 + 0                                      \n",
      "[60]\tcv_agg's auc: 1 + 0                                      \n",
      "[90]\tcv_agg's auc: 1 + 0                                      \n",
      "[30]\tcv_agg's auc: 1 + 0                                      \n",
      "[60]\tcv_agg's auc: 1 + 0                                      \n",
      "[90]\tcv_agg's auc: 1 + 0                                      \n",
      "100%|██████████| 10/10 [00:01<00:00,  6.22it/s, best loss: 1.0]\n",
      "[30]\tcv_agg's auc: 1 + 0\n"
     ]
    },
    {
     "name": "stderr",
     "output_type": "stream",
     "text": [
      "WARNING:root:model scores of LR_0.01 is worse than that of LR_0.05, LR_0.05 will be used instead!\n",
      "\n",
      "WARNING:root:before(LR_0.05): 1.0, best n_estimators: 1 | after(LR_0.01): 1.0, best n_estimators: 1\n",
      "\n"
     ]
    },
    {
     "name": "stdout",
     "output_type": "stream",
     "text": [
      "[60]\tcv_agg's auc: 1 + 0\n",
      "[90]\tcv_agg's auc: 1 + 0\n"
     ]
    },
    {
     "data": {
      "text/plain": [
       "({'bagging_fraction': 0.7868403860665779,\n",
       "  'bagging_freq': 10,\n",
       "  'boosting_type': 'gbdt',\n",
       "  'feature_fraction': 0.21002941429365568,\n",
       "  'learning_rate': 0.05,\n",
       "  'max_depth': 18,\n",
       "  'metric': 'auc',\n",
       "  'min_data_in_leaf': 50,\n",
       "  'min_split_gain': 1.7851929194051657,\n",
       "  'n_jobs': -1,\n",
       "  'num_leaves': 270,\n",
       "  'objective': 'binary',\n",
       "  'reg_alpha': 6.817180284240959,\n",
       "  'reg_lambda': 0.7052394266901507,\n",
       "  'seed': 2019,\n",
       "  'n_estimators': 1},\n",
       " 1.0)"
      ]
     },
     "execution_count": 3,
     "metadata": {},
     "output_type": "execute_result"
    }
   ],
   "source": [
    "main_tuning_with_bo(\n",
    "    X,\n",
    "    y,\n",
    "    model_nm='LGB',\n",
    "    max_evals=10,\n",
    "    folds=None,\n",
    "    nfold=3,\n",
    "    eval_metric='auc',\n",
    "    task='c')"
   ]
  },
  {
   "cell_type": "code",
   "execution_count": null,
   "metadata": {},
   "outputs": [],
   "source": []
  }
 ],
 "metadata": {
  "kernelspec": {
   "display_name": "Python 3",
   "language": "python",
   "name": "python3"
  },
  "language_info": {
   "codemirror_mode": {
    "name": "ipython",
    "version": 3
   },
   "file_extension": ".py",
   "mimetype": "text/x-python",
   "name": "python",
   "nbconvert_exporter": "python",
   "pygments_lexer": "ipython3",
   "version": "3.7.3"
  }
 },
 "nbformat": 4,
 "nbformat_minor": 2
}
